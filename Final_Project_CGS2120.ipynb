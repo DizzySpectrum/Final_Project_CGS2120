{
  "nbformat": 4,
  "nbformat_minor": 0,
  "metadata": {
    "colab": {
      "provenance": [],
      "authorship_tag": "ABX9TyMfZtb31yNA15/mnrt8ORjl",
      "include_colab_link": true
    },
    "kernelspec": {
      "name": "python3",
      "display_name": "Python 3"
    },
    "language_info": {
      "name": "python"
    }
  },
  "cells": [
    {
      "cell_type": "markdown",
      "metadata": {
        "id": "view-in-github",
        "colab_type": "text"
      },
      "source": [
        "<a href=\"https://colab.research.google.com/github/DizzySpectrum/Final_Project_CGS2120/blob/main/Final_Project_CGS2120.ipynb\" target=\"_parent\"><img src=\"https://colab.research.google.com/assets/colab-badge.svg\" alt=\"Open In Colab\"/></a>"
      ]
    },
    {
      "cell_type": "markdown",
      "source": [
        "Functions"
      ],
      "metadata": {
        "id": "j9rQPKR_p_lN"
      }
    },
    {
      "cell_type": "code",
      "source": [
        "import math\n",
        "\n",
        "#Addition\n",
        "def add(a,b):\n",
        "      \"\"\"Returns the sum of two numbers.\"\"\"\n",
        "      return a+b\n",
        "\n",
        "#Subtraction\n",
        "def subtract(a, b):\n",
        "      \"\"\"Returns the difference of two numbers.\"\"\"\n",
        "      return a-b\n",
        "\n",
        "#Multiplication\n",
        "def multiply(a, b):\n",
        "      \"\"\"Returns the product of two numbers.\"\"\"\n",
        "      return a*b\n",
        "\n",
        "#Division\n",
        "def divide(a, b):\n",
        "      \"\"\"Returns the quotient of two numbers. Handles division by zero.\"\"\"\n",
        "      if b == 0:\n",
        "            return \"Error: Division by zero is undefined\"\n",
        "      return a/b\n",
        "\n",
        "#Exponentiation\n",
        "def power(a, b):\n",
        "      \"\"\"Returns the result of raising a to the power of b.\"\"\"\n",
        "      return a**b\n",
        "\n",
        "#Square Root\n",
        "def square_root(a):\n",
        "          \"\"\"Returns the square root of a number. Handles negative inputs.\"\"\"\n",
        "          if a < 0:\n",
        "                return \"Error: Square root of a negative number is undefined\"\n",
        "          return math.sqrt(a)\n",
        ""
      ],
      "metadata": {
        "id": "9VzE1TOOqCF6"
      },
      "execution_count": 8,
      "outputs": []
    },
    {
      "cell_type": "markdown",
      "source": [
        "User Interaction"
      ],
      "metadata": {
        "id": "F5QNBHGesMYG"
      }
    },
    {
      "cell_type": "code",
      "source": [
        "def calculator():\n",
        "    \"\"\"Interctive calculator for performing basic arithmetic operations.\"\"\"\n",
        "    print(\"Welcome to the Calculator!\")\n",
        "    while True:\n",
        "        print(\"\\nSelect operation:\")\n",
        "        print(1, \"Addition\")\n",
        "        print(2, \"Subtraction\")\n",
        "        print(3, \"Multiplication\")\n",
        "        print(4, \"Division\")\n",
        "        print(5, \"Exponentiation\")\n",
        "        print(6, \"Square Root\")\n",
        "        print(7, \"Exit\")\n",
        "\n",
        "        choice = input(\"Enter the number of your choice:\")\n",
        "\n",
        "        if choice == '7':\n",
        "            print(\"Exiting the calculator. Goodbye!\")\n",
        "            break\n",
        "\n",
        "        # This line should be indented to the same level as the previous 'if'\n",
        "        if choice in [\"1\", \"2\", \"3\", \"4\", \"5\", \"6\"]:\n",
        "            a = float(input(\"Enter the first number: \"))\n",
        "            b = float(input(\"Enter the second number: \"))\n",
        "\n",
        "            if choice == \"6\":\n",
        "                a = float(input(\"Enter the number: \"))\n",
        "\n",
        "            #Perform the selected operation\n",
        "            if choice == \"1\":\n",
        "                print(f\"The result is: {add(a, b)}\")\n",
        "            elif choice == \"2\":\n",
        "                print(f\"The result is: {subtract(a, b)}\")\n",
        "            elif choice == \"3\":\n",
        "                print(f\"The result is: {multiply(a, b)}\")\n",
        "            elif choice == \"4\":\n",
        "                print(f\"The result is: {divide(a, b)}\")\n",
        "            elif choice == \"5\":\n",
        "                print(f\"The result is: {power(a, b)}\")\n",
        "            elif choice == \"6\":\n",
        "                print(f\"The result is: {square_root(a)}\")\n",
        "            else:\n",
        "                print(\"Invalid choice. Please try again.\") #This is also indented for correct execution"
      ],
      "metadata": {
        "id": "nYgfUBVbqzT8"
      },
      "execution_count": 13,
      "outputs": []
    },
    {
      "cell_type": "markdown",
      "source": [
        "Testing"
      ],
      "metadata": {
        "id": "YtpbnsUtuo5Y"
      }
    },
    {
      "cell_type": "code",
      "source": [
        "def test_functions():\n",
        "      \"\"\"Test the calculator functions.\"\"\"\n",
        "      assert add(3, 5) == 8\n",
        "      assert subtract(10, 4) == 6\n",
        "      assert multiply(2, 3) == 6\n",
        "      assert divide(8, 2) == 4\n",
        "      assert divide(8, 0) == \"Error: Division by zero is undefined\"\n",
        "      assert power(2, 3) == 8\n",
        "      assert square_root(16) == 4\n",
        "      assert square_root(-4) == \"Error: Square root of a negative number is undefined\"\n",
        "      print(\"All tests passed!\")\n",
        "\n",
        "test_functions()"
      ],
      "metadata": {
        "colab": {
          "base_uri": "https://localhost:8080/"
        },
        "id": "3__zCAL3uqv2",
        "outputId": "adaefcee-f172-4605-d843-9fee2dcdd5a4"
      },
      "execution_count": 17,
      "outputs": [
        {
          "output_type": "stream",
          "name": "stdout",
          "text": [
            "All tests passed!\n"
          ]
        }
      ]
    },
    {
      "cell_type": "markdown",
      "source": [
        "### Analysis\n",
        "**How Functions Simplify Code Structure**\n",
        "- Functions modularize the code, making it easier to read and debug.\n",
        "- Reusability is enhanced, allowing the sam function to be called mulptiple times with different inputs.\n",
        "\n",
        " **Potential Improvements**\n",
        " - Adding support for logarithmic,trigonmetric, or percentage calculations.\n",
        " - Enhancing user interaction by adding input validation and handling invalid inputs gracefully.\n",
        " - Developing a graphical user interface (GUI) for a more user-friendly experience.\n",
        " -Implementing history tracking to display past caluculations."
      ],
      "metadata": {
        "id": "Id-itCIswURg"
      }
    }
  ]
}